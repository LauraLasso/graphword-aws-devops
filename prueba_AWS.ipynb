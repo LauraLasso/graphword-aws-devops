{
 "cells": [
  {
   "cell_type": "code",
   "execution_count": 2,
   "metadata": {},
   "outputs": [],
   "source": [
    "import boto3\n",
    "\n",
    "# Configura los clientes de LocalStack y AWS real\n",
    "local_s3 = boto3.client('s3', endpoint_url='http://localhost:4566')  # LocalStack\n",
    "aws_s3 = boto3.client('s3')  # AWS real\n",
    "\n",
    "def sync_buckets(local_bucket, aws_bucket):\n",
    "    # Lista objetos en el bucket de LocalStack\n",
    "    response = local_s3.list_objects_v2(Bucket=local_bucket)\n",
    "    if 'Contents' in response:\n",
    "        for obj in response['Contents']:\n",
    "            key = obj['Key']\n",
    "            # Descarga el objeto de LocalStack\n",
    "            local_s3.download_file(local_bucket, key, f'/tmp/{key}')\n",
    "            # Sube el objeto a AWS real\n",
    "            aws_s3.upload_file(f'/tmp/{key}', aws_bucket, key)\n",
    "            print(f\"Sincronizado: {key} de {local_bucket} a {aws_bucket}\")\n",
    "\n",
    "# Ejecutar sincronización\n",
    "sync_buckets('local-bucket-name', 'aws-bucket-name')"
   ]
  },
  {
   "cell_type": "code",
   "execution_count": 3,
   "metadata": {},
   "outputs": [
    {
     "name": "stdout",
     "output_type": "stream",
     "text": [
      "Buckets disponibles:\n",
      "- bucketgrafo\n",
      "- bucket-de-prueba-123456\n",
      "- local-bucket-name\n"
     ]
    }
   ],
   "source": [
    "import boto3\n",
    "\n",
    "# Inicializar el cliente S3\n",
    "s3 = boto3.client('s3')\n",
    "\n",
    "def list_buckets():\n",
    "    try:\n",
    "        # Obtener la lista de buckets\n",
    "        response = s3.list_buckets()\n",
    "\n",
    "        # Imprimir nombres de los buckets\n",
    "        print(\"Buckets disponibles:\")\n",
    "        for bucket in response['Buckets']:\n",
    "            print(f\"- {bucket['Name']}\")\n",
    "    except Exception as e:\n",
    "        print(f\"Error al listar los buckets: {e}\")\n",
    "\n",
    "# Ejecutar la función\n",
    "if __name__ == \"__main__\":\n",
    "    list_buckets()"
   ]
  }
 ],
 "metadata": {
  "kernelspec": {
   "display_name": "aa2",
   "language": "python",
   "name": "python3"
  },
  "language_info": {
   "codemirror_mode": {
    "name": "ipython",
    "version": 3
   },
   "file_extension": ".py",
   "mimetype": "text/x-python",
   "name": "python",
   "nbconvert_exporter": "python",
   "pygments_lexer": "ipython3",
   "version": "3.9.18"
  }
 },
 "nbformat": 4,
 "nbformat_minor": 2
}
